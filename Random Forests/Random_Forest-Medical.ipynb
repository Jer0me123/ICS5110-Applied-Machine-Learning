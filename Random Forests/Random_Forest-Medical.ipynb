{
 "cells": [
  {
   "cell_type": "markdown",
   "id": "981a3542",
   "metadata": {},
   "source": [
    "# **Random Forest Implementation**"
   ]
  },
  {
   "cell_type": "markdown",
   "id": "bb72b262",
   "metadata": {},
   "source": [
    "## Installing and Importing Packages\n",
    "\n",
    "The required packages are installed and imported."
   ]
  },
  {
   "cell_type": "code",
   "execution_count": 1,
   "id": "64e965fd",
   "metadata": {},
   "outputs": [],
   "source": [
    "#Installing packages\n",
    "\n",
    "# !pip install matplotlib\n",
    "# !pip install scikit-learn"
   ]
  },
  {
   "cell_type": "code",
   "execution_count": 2,
   "id": "682e5ca7",
   "metadata": {},
   "outputs": [
    {
     "name": "stderr",
     "output_type": "stream",
     "text": [
      "c:\\MastersRepos\\ICS5110-Applied-Machine-Learning\\.venv\\lib\\site-packages\\tqdm\\auto.py:21: TqdmWarning: IProgress not found. Please update jupyter and ipywidgets. See https://ipywidgets.readthedocs.io/en/stable/user_install.html\n",
      "  from .autonotebook import tqdm as notebook_tqdm\n"
     ]
    }
   ],
   "source": [
    "#Importing packages\n",
    "import kagglehub\n",
    "import pandas as pd\n",
    "import os\n",
    "import matplotlib.pyplot as plt\n",
    "import numpy as np\n",
    "import ast\n",
    "import pickle\n",
    "from sklearn.model_selection import train_test_split, StratifiedKFold, GridSearchCV\n",
    "from sklearn.svm import SVC\n",
    "from sklearn.metrics import classification_report, accuracy_score, confusion_matrix, roc_curve, auc, precision_recall_curve\n",
    "from sklearn.preprocessing import StandardScaler\n",
    "from sklearn.metrics import ConfusionMatrixDisplay"
   ]
  },
  {
   "cell_type": "markdown",
   "id": "8764314f",
   "metadata": {},
   "source": [
    "## Downloading Dataset\n",
    "\n",
    "Downloading the dataset, retrieving its path and displaying the head and size."
   ]
  },
  {
   "cell_type": "code",
   "execution_count": 3,
   "id": "584a594a",
   "metadata": {},
   "outputs": [
    {
     "name": "stdout",
     "output_type": "stream",
     "text": [
      "Warning: Looks like you're using an outdated `kagglehub` version, please consider updating (latest version: 0.3.4)\n"
     ]
    }
   ],
   "source": [
    "#Downloading the dataset\n",
    "path = kagglehub.dataset_download(\"willianoliveiragibin/healthcare-insurance\")"
   ]
  },
  {
   "cell_type": "code",
   "execution_count": 4,
   "id": "e2915bdd",
   "metadata": {},
   "outputs": [],
   "source": [
    "#Retrieving the path to the dataset\n",
    "for dirname, _, filenames in os.walk(path):\n",
    "    for filename in filenames:\n",
    "        path = os.path.join(dirname, filename)"
   ]
  },
  {
   "cell_type": "code",
   "execution_count": 5,
   "id": "c32039a5",
   "metadata": {},
   "outputs": [
    {
     "data": {
      "text/html": [
       "<div>\n",
       "<style scoped>\n",
       "    .dataframe tbody tr th:only-of-type {\n",
       "        vertical-align: middle;\n",
       "    }\n",
       "\n",
       "    .dataframe tbody tr th {\n",
       "        vertical-align: top;\n",
       "    }\n",
       "\n",
       "    .dataframe thead th {\n",
       "        text-align: right;\n",
       "    }\n",
       "</style>\n",
       "<table border=\"1\" class=\"dataframe\">\n",
       "  <thead>\n",
       "    <tr style=\"text-align: right;\">\n",
       "      <th></th>\n",
       "      <th>age</th>\n",
       "      <th>sex</th>\n",
       "      <th>bmi</th>\n",
       "      <th>children</th>\n",
       "      <th>smoker</th>\n",
       "      <th>region</th>\n",
       "      <th>charges</th>\n",
       "    </tr>\n",
       "  </thead>\n",
       "  <tbody>\n",
       "    <tr>\n",
       "      <th>0</th>\n",
       "      <td>19</td>\n",
       "      <td>female</td>\n",
       "      <td>27.900</td>\n",
       "      <td>0</td>\n",
       "      <td>yes</td>\n",
       "      <td>southwest</td>\n",
       "      <td>16884.92400</td>\n",
       "    </tr>\n",
       "    <tr>\n",
       "      <th>1</th>\n",
       "      <td>18</td>\n",
       "      <td>male</td>\n",
       "      <td>33.770</td>\n",
       "      <td>1</td>\n",
       "      <td>no</td>\n",
       "      <td>southeast</td>\n",
       "      <td>1725.55230</td>\n",
       "    </tr>\n",
       "    <tr>\n",
       "      <th>2</th>\n",
       "      <td>28</td>\n",
       "      <td>male</td>\n",
       "      <td>33.000</td>\n",
       "      <td>3</td>\n",
       "      <td>no</td>\n",
       "      <td>southeast</td>\n",
       "      <td>4449.46200</td>\n",
       "    </tr>\n",
       "    <tr>\n",
       "      <th>3</th>\n",
       "      <td>33</td>\n",
       "      <td>male</td>\n",
       "      <td>22.705</td>\n",
       "      <td>0</td>\n",
       "      <td>no</td>\n",
       "      <td>northwest</td>\n",
       "      <td>21984.47061</td>\n",
       "    </tr>\n",
       "    <tr>\n",
       "      <th>4</th>\n",
       "      <td>32</td>\n",
       "      <td>male</td>\n",
       "      <td>28.880</td>\n",
       "      <td>0</td>\n",
       "      <td>no</td>\n",
       "      <td>northwest</td>\n",
       "      <td>3866.85520</td>\n",
       "    </tr>\n",
       "  </tbody>\n",
       "</table>\n",
       "</div>"
      ],
      "text/plain": [
       "   age     sex     bmi  children smoker     region      charges\n",
       "0   19  female  27.900         0    yes  southwest  16884.92400\n",
       "1   18    male  33.770         1     no  southeast   1725.55230\n",
       "2   28    male  33.000         3     no  southeast   4449.46200\n",
       "3   33    male  22.705         0     no  northwest  21984.47061\n",
       "4   32    male  28.880         0     no  northwest   3866.85520"
      ]
     },
     "execution_count": 5,
     "metadata": {},
     "output_type": "execute_result"
    }
   ],
   "source": [
    "#Displaying the first 5 rows of the dataset\n",
    "df = pd.read_csv(path)\n",
    "df.head(5)"
   ]
  },
  {
   "cell_type": "markdown",
   "id": "8affc19f",
   "metadata": {},
   "source": [
    "## Dataset Exploration"
   ]
  },
  {
   "cell_type": "code",
   "execution_count": 6,
   "id": "344e3d97",
   "metadata": {},
   "outputs": [
    {
     "name": "stdout",
     "output_type": "stream",
     "text": [
      "Dataset Row Count: 1338\n"
     ]
    }
   ],
   "source": [
    "print(\"Dataset Row Count:\", len(df))"
   ]
  },
  {
   "cell_type": "code",
   "execution_count": 7,
   "id": "048cc229",
   "metadata": {
    "papermill": {
     "duration": 0.033413,
     "end_time": "2024-11-21T04:07:58.325558",
     "exception": false,
     "start_time": "2024-11-21T04:07:58.292145",
     "status": "completed"
    },
    "tags": []
   },
   "outputs": [
    {
     "name": "stdout",
     "output_type": "stream",
     "text": [
      "<class 'pandas.core.frame.DataFrame'>\n",
      "RangeIndex: 1338 entries, 0 to 1337\n",
      "Data columns (total 7 columns):\n",
      " #   Column    Non-Null Count  Dtype  \n",
      "---  ------    --------------  -----  \n",
      " 0   age       1338 non-null   int64  \n",
      " 1   sex       1338 non-null   object \n",
      " 2   bmi       1338 non-null   float64\n",
      " 3   children  1338 non-null   int64  \n",
      " 4   smoker    1338 non-null   object \n",
      " 5   region    1338 non-null   object \n",
      " 6   charges   1338 non-null   float64\n",
      "dtypes: float64(2), int64(2), object(3)\n",
      "memory usage: 73.3+ KB\n"
     ]
    }
   ],
   "source": [
    "#General Dataset Info\n",
    "df.info()"
   ]
  },
  {
   "cell_type": "code",
   "execution_count": 8,
   "id": "06e9f9b5",
   "metadata": {
    "papermill": {
     "duration": 0.018174,
     "end_time": "2024-11-21T04:07:58.347641",
     "exception": false,
     "start_time": "2024-11-21T04:07:58.329467",
     "status": "completed"
    },
    "tags": []
   },
   "outputs": [
    {
     "data": {
      "text/plain": [
       "age           47\n",
       "sex            2\n",
       "bmi          548\n",
       "children       6\n",
       "smoker         2\n",
       "region         4\n",
       "charges     1337\n",
       "dtype: int64"
      ]
     },
     "execution_count": 8,
     "metadata": {},
     "output_type": "execute_result"
    }
   ],
   "source": [
    "# Unique values count in each column\n",
    "df.nunique()"
   ]
  },
  {
   "cell_type": "code",
   "execution_count": 9,
   "id": "0e8954d2",
   "metadata": {},
   "outputs": [
    {
     "name": "stdout",
     "output_type": "stream",
     "text": [
      "Smallest charge: 1121.8739\n",
      "Largest charge: 63770.42801\n"
     ]
    }
   ],
   "source": [
    "# Smallest and largest charges\n",
    "smallest_charge = df['charges'].min()\n",
    "largest_charge = df['charges'].max()\n",
    "\n",
    "print(f\"Smallest charge: {smallest_charge}\")\n",
    "print(f\"Largest charge: {largest_charge}\")"
   ]
  },
  {
   "cell_type": "markdown",
   "id": "b73f9c48",
   "metadata": {},
   "source": [
    "## Deciding Label to be Predicted\n",
    "\n",
    "The ``charges`` attribute was decided to be the predicted value."
   ]
  },
  {
   "cell_type": "code",
   "execution_count": 10,
   "id": "869b77c9",
   "metadata": {},
   "outputs": [],
   "source": [
    "label = 'charges'"
   ]
  },
  {
   "cell_type": "markdown",
   "id": "3e2d7695",
   "metadata": {},
   "source": [
    "## Data Cleaning\n",
    "\n",
    "Performing Data Cleaning techniques to prepare the dataset for model training."
   ]
  },
  {
   "cell_type": "markdown",
   "id": "e2732225",
   "metadata": {},
   "source": [
    "**Removing Duplicate Rows**"
   ]
  },
  {
   "cell_type": "code",
   "execution_count": 11,
   "id": "431ca3aa",
   "metadata": {},
   "outputs": [
    {
     "name": "stdout",
     "output_type": "stream",
     "text": [
      "Dataset Size before Deduplication:  1338\n",
      "Dataset Size after Deduplication:  1337\n"
     ]
    }
   ],
   "source": [
    "#Removing duplicate rows\n",
    "print(\"Dataset Size before Deduplication: \", len(df))\n",
    "deDupDF = df.drop_duplicates(inplace=False)\n",
    "print(\"Dataset Size after Deduplication: \", len(deDupDF))"
   ]
  },
  {
   "cell_type": "markdown",
   "id": "126481c1",
   "metadata": {},
   "source": [
    "**Removing Null Value Rows** "
   ]
  },
  {
   "cell_type": "code",
   "execution_count": 12,
   "id": "869659b8",
   "metadata": {},
   "outputs": [
    {
     "name": "stdout",
     "output_type": "stream",
     "text": [
      "Dataset Size after Null Removal:  1337\n",
      "Dataset Size after Null Removal:  1337\n"
     ]
    }
   ],
   "source": [
    "#Removing rows with missing values\n",
    "print(\"Dataset Size after Null Removal: \", len(deDupDF))\n",
    "#Replacing all missing values with NaN\n",
    "noNullDF = deDupDF.replace('?', np.nan, inplace=False)\n",
    "#Dropping rows with any NaN values\n",
    "noNullDF = noNullDF.dropna(inplace=False)\n",
    "#Resetting index after dropping rows\n",
    "noNullDF = noNullDF.reset_index(drop=True, inplace=False)\n",
    "print(\"Dataset Size after Null Removal: \", len(noNullDF))"
   ]
  },
  {
   "cell_type": "markdown",
   "id": "e50b6f5e",
   "metadata": {},
   "source": [
    "**Combining charges into Groups**\n",
    "\n",
    "To avoid a regression problem the ``charges`` attribute was grouped into X groups, these being:\n",
    "\n",
    "* **Very Low**: <= 5000\n",
    "* **Low**: 5001 - 10000\n",
    "* **Moderate**: 10001 - 15000\n",
    "* **High**: 15001 - 20000\n",
    "* **Very High**: > 20000  "
   ]
  },
  {
   "cell_type": "code",
   "execution_count": 13,
   "id": "69689afc",
   "metadata": {},
   "outputs": [
    {
     "name": "stdout",
     "output_type": "stream",
     "text": [
      "charges\n",
      "Very Low     26.776365\n",
      "Low          26.402393\n",
      "Very High    20.418848\n",
      "Moderate     20.044877\n",
      "High          6.357517\n",
      "Name: count, dtype: float64\n"
     ]
    },
    {
     "data": {
      "text/html": [
       "<div>\n",
       "<style scoped>\n",
       "    .dataframe tbody tr th:only-of-type {\n",
       "        vertical-align: middle;\n",
       "    }\n",
       "\n",
       "    .dataframe tbody tr th {\n",
       "        vertical-align: top;\n",
       "    }\n",
       "\n",
       "    .dataframe thead th {\n",
       "        text-align: right;\n",
       "    }\n",
       "</style>\n",
       "<table border=\"1\" class=\"dataframe\">\n",
       "  <thead>\n",
       "    <tr style=\"text-align: right;\">\n",
       "      <th></th>\n",
       "      <th>age</th>\n",
       "      <th>sex</th>\n",
       "      <th>bmi</th>\n",
       "      <th>children</th>\n",
       "      <th>smoker</th>\n",
       "      <th>region</th>\n",
       "      <th>charges</th>\n",
       "    </tr>\n",
       "  </thead>\n",
       "  <tbody>\n",
       "    <tr>\n",
       "      <th>0</th>\n",
       "      <td>19</td>\n",
       "      <td>female</td>\n",
       "      <td>27.900</td>\n",
       "      <td>0</td>\n",
       "      <td>yes</td>\n",
       "      <td>southwest</td>\n",
       "      <td>3</td>\n",
       "    </tr>\n",
       "    <tr>\n",
       "      <th>1</th>\n",
       "      <td>18</td>\n",
       "      <td>male</td>\n",
       "      <td>33.770</td>\n",
       "      <td>1</td>\n",
       "      <td>no</td>\n",
       "      <td>southeast</td>\n",
       "      <td>0</td>\n",
       "    </tr>\n",
       "    <tr>\n",
       "      <th>2</th>\n",
       "      <td>28</td>\n",
       "      <td>male</td>\n",
       "      <td>33.000</td>\n",
       "      <td>3</td>\n",
       "      <td>no</td>\n",
       "      <td>southeast</td>\n",
       "      <td>0</td>\n",
       "    </tr>\n",
       "    <tr>\n",
       "      <th>3</th>\n",
       "      <td>33</td>\n",
       "      <td>male</td>\n",
       "      <td>22.705</td>\n",
       "      <td>0</td>\n",
       "      <td>no</td>\n",
       "      <td>northwest</td>\n",
       "      <td>4</td>\n",
       "    </tr>\n",
       "    <tr>\n",
       "      <th>4</th>\n",
       "      <td>32</td>\n",
       "      <td>male</td>\n",
       "      <td>28.880</td>\n",
       "      <td>0</td>\n",
       "      <td>no</td>\n",
       "      <td>northwest</td>\n",
       "      <td>0</td>\n",
       "    </tr>\n",
       "  </tbody>\n",
       "</table>\n",
       "</div>"
      ],
      "text/plain": [
       "   age     sex     bmi  children smoker     region charges\n",
       "0   19  female  27.900         0    yes  southwest       3\n",
       "1   18    male  33.770         1     no  southeast       0\n",
       "2   28    male  33.000         3     no  southeast       0\n",
       "3   33    male  22.705         0     no  northwest       4\n",
       "4   32    male  28.880         0     no  northwest       0"
      ]
     },
     "execution_count": 13,
     "metadata": {},
     "output_type": "execute_result"
    }
   ],
   "source": [
    "binaryLabelDF = noNullDF.copy()\n",
    "\n",
    "binaryLabelDF['charges'] = pd.cut(\n",
    "    binaryLabelDF['charges'],\n",
    "    bins=[-float('inf'), 5000, 10000, 15000, 20000, float('inf')],\n",
    "    labels=['Very Low', 'Low', 'Moderate', 'High', 'Very High']\n",
    ")\n",
    "\n",
    "# Visualising Percentage Splits\n",
    "label_percentages = (binaryLabelDF['charges'].value_counts() / len(binaryLabelDF)) * 100\n",
    "print(label_percentages)\n",
    "\n",
    "# This is done to ensure that the mapping is correct\n",
    "binaryLabelDF['charges'] = binaryLabelDF['charges'].map({'Very Low': 0, 'Low':1, 'Moderate':2, 'High':3, 'Very High':4})\n",
    "binaryLabelDF.head(5)"
   ]
  },
  {
   "cell_type": "markdown",
   "id": "46d85995",
   "metadata": {},
   "source": [
    "**Performing One-Hot Encoding**\n",
    "\n",
    "This technique was required since the ``region`` attribute is a non-ordinal non-binary categorical classes.\n",
    "\n",
    "The ``drop_first`` function drops one of the columns created from One-Hot Encoding to avoid the **Dummy Variable Trap**, which occurs when you have **Multicollinearity**. This phenomenon occurs when one of the new columns can be perfectly predicted by the others (i.e., if you know the values of n-1 columns, you can deduce the nth column). This can distort the model’s interpretation and lead to redundant information."
   ]
  },
  {
   "cell_type": "code",
   "execution_count": 14,
   "id": "dffee40c",
   "metadata": {},
   "outputs": [
    {
     "name": "stdout",
     "output_type": "stream",
     "text": [
      "Original Columns:  Index(['age', 'sex', 'bmi', 'children', 'smoker', 'region', 'charges'], dtype='object')\n",
      "New Columns:  Index(['age', 'sex', 'bmi', 'children', 'smoker', 'charges',\n",
      "       'region_northwest', 'region_southeast', 'region_southwest'],\n",
      "      dtype='object')\n"
     ]
    },
    {
     "data": {
      "text/html": [
       "<div>\n",
       "<style scoped>\n",
       "    .dataframe tbody tr th:only-of-type {\n",
       "        vertical-align: middle;\n",
       "    }\n",
       "\n",
       "    .dataframe tbody tr th {\n",
       "        vertical-align: top;\n",
       "    }\n",
       "\n",
       "    .dataframe thead th {\n",
       "        text-align: right;\n",
       "    }\n",
       "</style>\n",
       "<table border=\"1\" class=\"dataframe\">\n",
       "  <thead>\n",
       "    <tr style=\"text-align: right;\">\n",
       "      <th></th>\n",
       "      <th>age</th>\n",
       "      <th>sex</th>\n",
       "      <th>bmi</th>\n",
       "      <th>children</th>\n",
       "      <th>smoker</th>\n",
       "      <th>charges</th>\n",
       "      <th>region_northwest</th>\n",
       "      <th>region_southeast</th>\n",
       "      <th>region_southwest</th>\n",
       "    </tr>\n",
       "  </thead>\n",
       "  <tbody>\n",
       "    <tr>\n",
       "      <th>0</th>\n",
       "      <td>19</td>\n",
       "      <td>female</td>\n",
       "      <td>27.900</td>\n",
       "      <td>0</td>\n",
       "      <td>yes</td>\n",
       "      <td>3</td>\n",
       "      <td>False</td>\n",
       "      <td>False</td>\n",
       "      <td>True</td>\n",
       "    </tr>\n",
       "    <tr>\n",
       "      <th>1</th>\n",
       "      <td>18</td>\n",
       "      <td>male</td>\n",
       "      <td>33.770</td>\n",
       "      <td>1</td>\n",
       "      <td>no</td>\n",
       "      <td>0</td>\n",
       "      <td>False</td>\n",
       "      <td>True</td>\n",
       "      <td>False</td>\n",
       "    </tr>\n",
       "    <tr>\n",
       "      <th>2</th>\n",
       "      <td>28</td>\n",
       "      <td>male</td>\n",
       "      <td>33.000</td>\n",
       "      <td>3</td>\n",
       "      <td>no</td>\n",
       "      <td>0</td>\n",
       "      <td>False</td>\n",
       "      <td>True</td>\n",
       "      <td>False</td>\n",
       "    </tr>\n",
       "    <tr>\n",
       "      <th>3</th>\n",
       "      <td>33</td>\n",
       "      <td>male</td>\n",
       "      <td>22.705</td>\n",
       "      <td>0</td>\n",
       "      <td>no</td>\n",
       "      <td>4</td>\n",
       "      <td>True</td>\n",
       "      <td>False</td>\n",
       "      <td>False</td>\n",
       "    </tr>\n",
       "    <tr>\n",
       "      <th>4</th>\n",
       "      <td>32</td>\n",
       "      <td>male</td>\n",
       "      <td>28.880</td>\n",
       "      <td>0</td>\n",
       "      <td>no</td>\n",
       "      <td>0</td>\n",
       "      <td>True</td>\n",
       "      <td>False</td>\n",
       "      <td>False</td>\n",
       "    </tr>\n",
       "  </tbody>\n",
       "</table>\n",
       "</div>"
      ],
      "text/plain": [
       "   age     sex     bmi  children smoker charges  region_northwest  \\\n",
       "0   19  female  27.900         0    yes       3             False   \n",
       "1   18    male  33.770         1     no       0             False   \n",
       "2   28    male  33.000         3     no       0             False   \n",
       "3   33    male  22.705         0     no       4              True   \n",
       "4   32    male  28.880         0     no       0              True   \n",
       "\n",
       "   region_southeast  region_southwest  \n",
       "0             False              True  \n",
       "1              True             False  \n",
       "2              True             False  \n",
       "3             False             False  \n",
       "4             False             False  "
      ]
     },
     "execution_count": 14,
     "metadata": {},
     "output_type": "execute_result"
    }
   ],
   "source": [
    "#Applying one-hot encoding to multiple categorical columns with drop_first to avoid the dummy variable trap\n",
    "oHEDF = pd.get_dummies(binaryLabelDF, columns=['region'], drop_first=True)\n",
    "print(\"Original Columns: \", df.columns)\n",
    "print(\"New Columns: \", oHEDF.columns)\n",
    "#Converting all columns to integer type\n",
    "oHEDF.head(5)"
   ]
  },
  {
   "cell_type": "markdown",
   "id": "2f8a9470",
   "metadata": {},
   "source": [
    "**Converting Binary Categorical Columns**\n",
    "\n",
    "The ``sex`` and ``smoker`` columns are converted to integer values."
   ]
  },
  {
   "cell_type": "code",
   "execution_count": 15,
   "id": "442fa527",
   "metadata": {},
   "outputs": [
    {
     "data": {
      "text/html": [
       "<div>\n",
       "<style scoped>\n",
       "    .dataframe tbody tr th:only-of-type {\n",
       "        vertical-align: middle;\n",
       "    }\n",
       "\n",
       "    .dataframe tbody tr th {\n",
       "        vertical-align: top;\n",
       "    }\n",
       "\n",
       "    .dataframe thead th {\n",
       "        text-align: right;\n",
       "    }\n",
       "</style>\n",
       "<table border=\"1\" class=\"dataframe\">\n",
       "  <thead>\n",
       "    <tr style=\"text-align: right;\">\n",
       "      <th></th>\n",
       "      <th>age</th>\n",
       "      <th>sex</th>\n",
       "      <th>bmi</th>\n",
       "      <th>children</th>\n",
       "      <th>smoker</th>\n",
       "      <th>charges</th>\n",
       "      <th>region_northwest</th>\n",
       "      <th>region_southeast</th>\n",
       "      <th>region_southwest</th>\n",
       "    </tr>\n",
       "  </thead>\n",
       "  <tbody>\n",
       "    <tr>\n",
       "      <th>0</th>\n",
       "      <td>19</td>\n",
       "      <td>0</td>\n",
       "      <td>27.900</td>\n",
       "      <td>0</td>\n",
       "      <td>yes</td>\n",
       "      <td>3</td>\n",
       "      <td>False</td>\n",
       "      <td>False</td>\n",
       "      <td>True</td>\n",
       "    </tr>\n",
       "    <tr>\n",
       "      <th>1</th>\n",
       "      <td>18</td>\n",
       "      <td>1</td>\n",
       "      <td>33.770</td>\n",
       "      <td>1</td>\n",
       "      <td>no</td>\n",
       "      <td>0</td>\n",
       "      <td>False</td>\n",
       "      <td>True</td>\n",
       "      <td>False</td>\n",
       "    </tr>\n",
       "    <tr>\n",
       "      <th>2</th>\n",
       "      <td>28</td>\n",
       "      <td>1</td>\n",
       "      <td>33.000</td>\n",
       "      <td>3</td>\n",
       "      <td>no</td>\n",
       "      <td>0</td>\n",
       "      <td>False</td>\n",
       "      <td>True</td>\n",
       "      <td>False</td>\n",
       "    </tr>\n",
       "    <tr>\n",
       "      <th>3</th>\n",
       "      <td>33</td>\n",
       "      <td>1</td>\n",
       "      <td>22.705</td>\n",
       "      <td>0</td>\n",
       "      <td>no</td>\n",
       "      <td>4</td>\n",
       "      <td>True</td>\n",
       "      <td>False</td>\n",
       "      <td>False</td>\n",
       "    </tr>\n",
       "    <tr>\n",
       "      <th>4</th>\n",
       "      <td>32</td>\n",
       "      <td>1</td>\n",
       "      <td>28.880</td>\n",
       "      <td>0</td>\n",
       "      <td>no</td>\n",
       "      <td>0</td>\n",
       "      <td>True</td>\n",
       "      <td>False</td>\n",
       "      <td>False</td>\n",
       "    </tr>\n",
       "  </tbody>\n",
       "</table>\n",
       "</div>"
      ],
      "text/plain": [
       "   age  sex     bmi  children smoker charges  region_northwest  \\\n",
       "0   19    0  27.900         0    yes       3             False   \n",
       "1   18    1  33.770         1     no       0             False   \n",
       "2   28    1  33.000         3     no       0             False   \n",
       "3   33    1  22.705         0     no       4              True   \n",
       "4   32    1  28.880         0     no       0              True   \n",
       "\n",
       "   region_southeast  region_southwest  \n",
       "0             False              True  \n",
       "1              True             False  \n",
       "2              True             False  \n",
       "3             False             False  \n",
       "4             False             False  "
      ]
     },
     "execution_count": 15,
     "metadata": {},
     "output_type": "execute_result"
    }
   ],
   "source": [
    "#Converting sex column to binary: Male -> 1, Female -> 0\n",
    "binarySexDF = oHEDF.copy()\n",
    "binarySexDF['sex'] = binarySexDF['sex'].map({'male': 1, 'female': 0})\n",
    "#Checking the first few rows to confirm the conversion\n",
    "binarySexDF.head(5)"
   ]
  },
  {
   "cell_type": "code",
   "execution_count": 16,
   "id": "e92eee3c",
   "metadata": {},
   "outputs": [
    {
     "data": {
      "text/html": [
       "<div>\n",
       "<style scoped>\n",
       "    .dataframe tbody tr th:only-of-type {\n",
       "        vertical-align: middle;\n",
       "    }\n",
       "\n",
       "    .dataframe tbody tr th {\n",
       "        vertical-align: top;\n",
       "    }\n",
       "\n",
       "    .dataframe thead th {\n",
       "        text-align: right;\n",
       "    }\n",
       "</style>\n",
       "<table border=\"1\" class=\"dataframe\">\n",
       "  <thead>\n",
       "    <tr style=\"text-align: right;\">\n",
       "      <th></th>\n",
       "      <th>age</th>\n",
       "      <th>sex</th>\n",
       "      <th>bmi</th>\n",
       "      <th>children</th>\n",
       "      <th>smoker</th>\n",
       "      <th>charges</th>\n",
       "      <th>region_northwest</th>\n",
       "      <th>region_southeast</th>\n",
       "      <th>region_southwest</th>\n",
       "    </tr>\n",
       "  </thead>\n",
       "  <tbody>\n",
       "    <tr>\n",
       "      <th>0</th>\n",
       "      <td>19</td>\n",
       "      <td>0</td>\n",
       "      <td>27.900</td>\n",
       "      <td>0</td>\n",
       "      <td>1</td>\n",
       "      <td>3</td>\n",
       "      <td>False</td>\n",
       "      <td>False</td>\n",
       "      <td>True</td>\n",
       "    </tr>\n",
       "    <tr>\n",
       "      <th>1</th>\n",
       "      <td>18</td>\n",
       "      <td>1</td>\n",
       "      <td>33.770</td>\n",
       "      <td>1</td>\n",
       "      <td>0</td>\n",
       "      <td>0</td>\n",
       "      <td>False</td>\n",
       "      <td>True</td>\n",
       "      <td>False</td>\n",
       "    </tr>\n",
       "    <tr>\n",
       "      <th>2</th>\n",
       "      <td>28</td>\n",
       "      <td>1</td>\n",
       "      <td>33.000</td>\n",
       "      <td>3</td>\n",
       "      <td>0</td>\n",
       "      <td>0</td>\n",
       "      <td>False</td>\n",
       "      <td>True</td>\n",
       "      <td>False</td>\n",
       "    </tr>\n",
       "    <tr>\n",
       "      <th>3</th>\n",
       "      <td>33</td>\n",
       "      <td>1</td>\n",
       "      <td>22.705</td>\n",
       "      <td>0</td>\n",
       "      <td>0</td>\n",
       "      <td>4</td>\n",
       "      <td>True</td>\n",
       "      <td>False</td>\n",
       "      <td>False</td>\n",
       "    </tr>\n",
       "    <tr>\n",
       "      <th>4</th>\n",
       "      <td>32</td>\n",
       "      <td>1</td>\n",
       "      <td>28.880</td>\n",
       "      <td>0</td>\n",
       "      <td>0</td>\n",
       "      <td>0</td>\n",
       "      <td>True</td>\n",
       "      <td>False</td>\n",
       "      <td>False</td>\n",
       "    </tr>\n",
       "  </tbody>\n",
       "</table>\n",
       "</div>"
      ],
      "text/plain": [
       "   age  sex     bmi  children  smoker charges  region_northwest  \\\n",
       "0   19    0  27.900         0       1       3             False   \n",
       "1   18    1  33.770         1       0       0             False   \n",
       "2   28    1  33.000         3       0       0             False   \n",
       "3   33    1  22.705         0       0       4              True   \n",
       "4   32    1  28.880         0       0       0              True   \n",
       "\n",
       "   region_southeast  region_southwest  \n",
       "0             False              True  \n",
       "1              True             False  \n",
       "2              True             False  \n",
       "3             False             False  \n",
       "4             False             False  "
      ]
     },
     "execution_count": 16,
     "metadata": {},
     "output_type": "execute_result"
    }
   ],
   "source": [
    "#Converting sex column to binary: Male -> 1, Female -> 0\n",
    "binarySmokerDF = binarySexDF.copy()\n",
    "binarySmokerDF['smoker'] = binarySmokerDF['smoker'].map({'yes': 1, 'no': 0})\n",
    "#Checking the first few rows to confirm the conversion\n",
    "binarySmokerDF.head(5)"
   ]
  },
  {
   "cell_type": "code",
   "execution_count": 17,
   "id": "2e8f39ba",
   "metadata": {},
   "outputs": [
    {
     "data": {
      "text/html": [
       "<div>\n",
       "<style scoped>\n",
       "    .dataframe tbody tr th:only-of-type {\n",
       "        vertical-align: middle;\n",
       "    }\n",
       "\n",
       "    .dataframe tbody tr th {\n",
       "        vertical-align: top;\n",
       "    }\n",
       "\n",
       "    .dataframe thead th {\n",
       "        text-align: right;\n",
       "    }\n",
       "</style>\n",
       "<table border=\"1\" class=\"dataframe\">\n",
       "  <thead>\n",
       "    <tr style=\"text-align: right;\">\n",
       "      <th></th>\n",
       "      <th>age</th>\n",
       "      <th>sex</th>\n",
       "      <th>bmi</th>\n",
       "      <th>children</th>\n",
       "      <th>smoker</th>\n",
       "      <th>charges</th>\n",
       "      <th>region_northwest</th>\n",
       "      <th>region_southeast</th>\n",
       "      <th>region_southwest</th>\n",
       "    </tr>\n",
       "  </thead>\n",
       "  <tbody>\n",
       "    <tr>\n",
       "      <th>0</th>\n",
       "      <td>19</td>\n",
       "      <td>0</td>\n",
       "      <td>27.900</td>\n",
       "      <td>0</td>\n",
       "      <td>1</td>\n",
       "      <td>3</td>\n",
       "      <td>0</td>\n",
       "      <td>0</td>\n",
       "      <td>1</td>\n",
       "    </tr>\n",
       "    <tr>\n",
       "      <th>1</th>\n",
       "      <td>18</td>\n",
       "      <td>1</td>\n",
       "      <td>33.770</td>\n",
       "      <td>1</td>\n",
       "      <td>0</td>\n",
       "      <td>0</td>\n",
       "      <td>0</td>\n",
       "      <td>1</td>\n",
       "      <td>0</td>\n",
       "    </tr>\n",
       "    <tr>\n",
       "      <th>2</th>\n",
       "      <td>28</td>\n",
       "      <td>1</td>\n",
       "      <td>33.000</td>\n",
       "      <td>3</td>\n",
       "      <td>0</td>\n",
       "      <td>0</td>\n",
       "      <td>0</td>\n",
       "      <td>1</td>\n",
       "      <td>0</td>\n",
       "    </tr>\n",
       "    <tr>\n",
       "      <th>3</th>\n",
       "      <td>33</td>\n",
       "      <td>1</td>\n",
       "      <td>22.705</td>\n",
       "      <td>0</td>\n",
       "      <td>0</td>\n",
       "      <td>4</td>\n",
       "      <td>1</td>\n",
       "      <td>0</td>\n",
       "      <td>0</td>\n",
       "    </tr>\n",
       "    <tr>\n",
       "      <th>4</th>\n",
       "      <td>32</td>\n",
       "      <td>1</td>\n",
       "      <td>28.880</td>\n",
       "      <td>0</td>\n",
       "      <td>0</td>\n",
       "      <td>0</td>\n",
       "      <td>1</td>\n",
       "      <td>0</td>\n",
       "      <td>0</td>\n",
       "    </tr>\n",
       "  </tbody>\n",
       "</table>\n",
       "</div>"
      ],
      "text/plain": [
       "   age  sex     bmi  children  smoker  charges  region_northwest  \\\n",
       "0   19    0  27.900         0       1        3                 0   \n",
       "1   18    1  33.770         1       0        0                 0   \n",
       "2   28    1  33.000         3       0        0                 0   \n",
       "3   33    1  22.705         0       0        4                 1   \n",
       "4   32    1  28.880         0       0        0                 1   \n",
       "\n",
       "   region_southeast  region_southwest  \n",
       "0                 0                 1  \n",
       "1                 1                 0  \n",
       "2                 1                 0  \n",
       "3                 0                 0  \n",
       "4                 0                 0  "
      ]
     },
     "execution_count": 17,
     "metadata": {},
     "output_type": "execute_result"
    }
   ],
   "source": [
    "binaryIntDF = binarySmokerDF.copy()\n",
    "\n",
    "# Convert all columns except 'bmi' to integer type\n",
    "columns_to_convert = binarySmokerDF.columns.difference(['bmi'])\n",
    "binaryIntDF[columns_to_convert] = binarySmokerDF[columns_to_convert].astype(int)\n",
    "\n",
    "# Checking the first few rows to confirm\n",
    "binaryIntDF.head(5)"
   ]
  },
  {
   "cell_type": "markdown",
   "id": "304033ba",
   "metadata": {},
   "source": [
    "**Applying log1p to Highly-Skewed Columns** \n",
    "\n",
    "**log1p** is performed to reduce skewness of columns. The main reason this is used is due to the way it handles 0 values safely. When performing this technique, One-Hot Encoding columns can be ignored, as skewness is relevant only to traditional continuous values. If a column's skewness factors is not between -1 and 1, it is considered to be highly-skewed, thus **log1p** is performed."
   ]
  },
  {
   "cell_type": "code",
   "execution_count": 18,
   "id": "17fb3cb3",
   "metadata": {},
   "outputs": [
    {
     "name": "stdout",
     "output_type": "stream",
     "text": [
      "age    0.054781\n",
      "bmi    0.283914\n",
      "dtype: float64\n",
      "\n",
      "Columns with skewness > 1 or < -1: []\n"
     ]
    },
    {
     "data": {
      "text/html": [
       "<div>\n",
       "<style scoped>\n",
       "    .dataframe tbody tr th:only-of-type {\n",
       "        vertical-align: middle;\n",
       "    }\n",
       "\n",
       "    .dataframe tbody tr th {\n",
       "        vertical-align: top;\n",
       "    }\n",
       "\n",
       "    .dataframe thead th {\n",
       "        text-align: right;\n",
       "    }\n",
       "</style>\n",
       "<table border=\"1\" class=\"dataframe\">\n",
       "  <thead>\n",
       "    <tr style=\"text-align: right;\">\n",
       "      <th></th>\n",
       "      <th>age</th>\n",
       "      <th>sex</th>\n",
       "      <th>bmi</th>\n",
       "      <th>children</th>\n",
       "      <th>smoker</th>\n",
       "      <th>charges</th>\n",
       "      <th>region_northwest</th>\n",
       "      <th>region_southeast</th>\n",
       "      <th>region_southwest</th>\n",
       "    </tr>\n",
       "  </thead>\n",
       "  <tbody>\n",
       "    <tr>\n",
       "      <th>0</th>\n",
       "      <td>19</td>\n",
       "      <td>0</td>\n",
       "      <td>27.900</td>\n",
       "      <td>0</td>\n",
       "      <td>1</td>\n",
       "      <td>3</td>\n",
       "      <td>0</td>\n",
       "      <td>0</td>\n",
       "      <td>1</td>\n",
       "    </tr>\n",
       "    <tr>\n",
       "      <th>1</th>\n",
       "      <td>18</td>\n",
       "      <td>1</td>\n",
       "      <td>33.770</td>\n",
       "      <td>1</td>\n",
       "      <td>0</td>\n",
       "      <td>0</td>\n",
       "      <td>0</td>\n",
       "      <td>1</td>\n",
       "      <td>0</td>\n",
       "    </tr>\n",
       "    <tr>\n",
       "      <th>2</th>\n",
       "      <td>28</td>\n",
       "      <td>1</td>\n",
       "      <td>33.000</td>\n",
       "      <td>3</td>\n",
       "      <td>0</td>\n",
       "      <td>0</td>\n",
       "      <td>0</td>\n",
       "      <td>1</td>\n",
       "      <td>0</td>\n",
       "    </tr>\n",
       "    <tr>\n",
       "      <th>3</th>\n",
       "      <td>33</td>\n",
       "      <td>1</td>\n",
       "      <td>22.705</td>\n",
       "      <td>0</td>\n",
       "      <td>0</td>\n",
       "      <td>4</td>\n",
       "      <td>1</td>\n",
       "      <td>0</td>\n",
       "      <td>0</td>\n",
       "    </tr>\n",
       "    <tr>\n",
       "      <th>4</th>\n",
       "      <td>32</td>\n",
       "      <td>1</td>\n",
       "      <td>28.880</td>\n",
       "      <td>0</td>\n",
       "      <td>0</td>\n",
       "      <td>0</td>\n",
       "      <td>1</td>\n",
       "      <td>0</td>\n",
       "      <td>0</td>\n",
       "    </tr>\n",
       "  </tbody>\n",
       "</table>\n",
       "</div>"
      ],
      "text/plain": [
       "   age  sex     bmi  children  smoker  charges  region_northwest  \\\n",
       "0   19    0  27.900         0       1        3                 0   \n",
       "1   18    1  33.770         1       0        0                 0   \n",
       "2   28    1  33.000         3       0        0                 0   \n",
       "3   33    1  22.705         0       0        4                 1   \n",
       "4   32    1  28.880         0       0        0                 1   \n",
       "\n",
       "   region_southeast  region_southwest  \n",
       "0                 0                 1  \n",
       "1                 1                 0  \n",
       "2                 1                 0  \n",
       "3                 0                 0  \n",
       "4                 0                 0  "
      ]
     },
     "execution_count": 18,
     "metadata": {},
     "output_type": "execute_result"
    }
   ],
   "source": [
    "#Getting only continuous columns\n",
    "continuous_columns = ['age', 'bmi']\n",
    "continuousDF = binaryIntDF[continuous_columns]\n",
    "\n",
    "#Calculating skewness for continuous columns\n",
    "skewness = continuousDF.skew()\n",
    "\n",
    "#Checking skewness of the data\n",
    "print(skewness)\n",
    "\n",
    "#Filtering columns where skewness > 1 or skewness < -1\n",
    "high_skew_columns = skewness[skewness > 1].index.tolist() + skewness[skewness < -1].index.tolist()\n",
    "\n",
    "print(\"\\nColumns with skewness > 1 or < -1:\", high_skew_columns)\n",
    "#Applying log transformation to reduce skewness\n",
    "reducedSkewDF = binaryIntDF.copy()\n",
    "for column in high_skew_columns:\n",
    "    reducedSkewDF[column] = np.log1p(reducedSkewDF[column])\n",
    "\n",
    "#Checking the first few rows to confirm the transformation\n",
    "reducedSkewDF.head(5)"
   ]
  },
  {
   "cell_type": "markdown",
   "id": "50399eaf",
   "metadata": {},
   "source": [
    "**Z-Score Normalisation**\n",
    "\n",
    "This normalisation technique is used to rescale the data to have a **Mean of 0** and a **Standard Deviation of 1**. This is useful for models sensitive to feature scales, like SVMs, logistic regression, and k-means clustering."
   ]
  },
  {
   "cell_type": "code",
   "execution_count": 19,
   "id": "71e7eab4",
   "metadata": {},
   "outputs": [
    {
     "data": {
      "text/html": [
       "<div>\n",
       "<style scoped>\n",
       "    .dataframe tbody tr th:only-of-type {\n",
       "        vertical-align: middle;\n",
       "    }\n",
       "\n",
       "    .dataframe tbody tr th {\n",
       "        vertical-align: top;\n",
       "    }\n",
       "\n",
       "    .dataframe thead th {\n",
       "        text-align: right;\n",
       "    }\n",
       "</style>\n",
       "<table border=\"1\" class=\"dataframe\">\n",
       "  <thead>\n",
       "    <tr style=\"text-align: right;\">\n",
       "      <th></th>\n",
       "      <th>age</th>\n",
       "      <th>sex</th>\n",
       "      <th>bmi</th>\n",
       "      <th>children</th>\n",
       "      <th>smoker</th>\n",
       "      <th>charges</th>\n",
       "      <th>region_northwest</th>\n",
       "      <th>region_southeast</th>\n",
       "      <th>region_southwest</th>\n",
       "    </tr>\n",
       "  </thead>\n",
       "  <tbody>\n",
       "    <tr>\n",
       "      <th>0</th>\n",
       "      <td>-1.440418</td>\n",
       "      <td>0</td>\n",
       "      <td>-0.453160</td>\n",
       "      <td>0</td>\n",
       "      <td>1</td>\n",
       "      <td>3</td>\n",
       "      <td>0</td>\n",
       "      <td>0</td>\n",
       "      <td>1</td>\n",
       "    </tr>\n",
       "    <tr>\n",
       "      <th>1</th>\n",
       "      <td>-1.511647</td>\n",
       "      <td>1</td>\n",
       "      <td>0.509422</td>\n",
       "      <td>1</td>\n",
       "      <td>0</td>\n",
       "      <td>0</td>\n",
       "      <td>0</td>\n",
       "      <td>1</td>\n",
       "      <td>0</td>\n",
       "    </tr>\n",
       "    <tr>\n",
       "      <th>2</th>\n",
       "      <td>-0.799350</td>\n",
       "      <td>1</td>\n",
       "      <td>0.383155</td>\n",
       "      <td>3</td>\n",
       "      <td>0</td>\n",
       "      <td>0</td>\n",
       "      <td>0</td>\n",
       "      <td>1</td>\n",
       "      <td>0</td>\n",
       "    </tr>\n",
       "    <tr>\n",
       "      <th>3</th>\n",
       "      <td>-0.443201</td>\n",
       "      <td>1</td>\n",
       "      <td>-1.305052</td>\n",
       "      <td>0</td>\n",
       "      <td>0</td>\n",
       "      <td>4</td>\n",
       "      <td>1</td>\n",
       "      <td>0</td>\n",
       "      <td>0</td>\n",
       "    </tr>\n",
       "    <tr>\n",
       "      <th>4</th>\n",
       "      <td>-0.514431</td>\n",
       "      <td>1</td>\n",
       "      <td>-0.292456</td>\n",
       "      <td>0</td>\n",
       "      <td>0</td>\n",
       "      <td>0</td>\n",
       "      <td>1</td>\n",
       "      <td>0</td>\n",
       "      <td>0</td>\n",
       "    </tr>\n",
       "  </tbody>\n",
       "</table>\n",
       "</div>"
      ],
      "text/plain": [
       "        age  sex       bmi  children  smoker  charges  region_northwest  \\\n",
       "0 -1.440418    0 -0.453160         0       1        3                 0   \n",
       "1 -1.511647    1  0.509422         1       0        0                 0   \n",
       "2 -0.799350    1  0.383155         3       0        0                 0   \n",
       "3 -0.443201    1 -1.305052         0       0        4                 1   \n",
       "4 -0.514431    1 -0.292456         0       0        0                 1   \n",
       "\n",
       "   region_southeast  region_southwest  \n",
       "0                 0                 1  \n",
       "1                 1                 0  \n",
       "2                 1                 0  \n",
       "3                 0                 0  \n",
       "4                 0                 0  "
      ]
     },
     "execution_count": 19,
     "metadata": {},
     "output_type": "execute_result"
    }
   ],
   "source": [
    "#Initialising the scaler\n",
    "scaler = StandardScaler()\n",
    "\n",
    "#Creating a list of continuous columns to standardise\n",
    "continuous_columns = ['age', 'bmi']\n",
    "\n",
    "#Removing the label column from the list of continuous columns\n",
    "continuous_columns = [col for col in continuous_columns if col != label]\n",
    "\n",
    "#Applying standardisation\n",
    "zNormalisedDF = reducedSkewDF.copy()\n",
    "zNormalisedDF[continuous_columns] = scaler.fit_transform(zNormalisedDF[continuous_columns])\n",
    "\n",
    "#Saving the scaler using pickle to be used for unseen data\n",
    "scaler_name = 'z-score_scaler_rf_charges_classification'\n",
    "with open('models/'+scaler_name+'.pkl', 'wb') as f:\n",
    "    pickle.dump(scaler, f)\n",
    "\n",
    "#Checking the first few rows to confirm the standardisation\n",
    "zNormalisedDF.head(5)"
   ]
  },
  {
   "cell_type": "markdown",
   "id": "4c1609fe",
   "metadata": {},
   "source": [
    "# Random Forest Setup & Training"
   ]
  },
  {
   "cell_type": "code",
   "execution_count": 20,
   "id": "d5590a1b-a1d3-43c4-8c1b-5a9dda95eb91",
   "metadata": {},
   "outputs": [
    {
     "name": "stdout",
     "output_type": "stream",
     "text": [
      "Fitting 5 folds for each of 1 candidates, totalling 5 fits\n",
      "Best Hyperparameters: {'bootstrap': False, 'max_depth': 10, 'min_samples_leaf': 2, 'min_samples_split': 5, 'n_estimators': 200}\n",
      "Accuracy: 0.8582089552238806\n",
      "Classification Report:\n",
      "               precision    recall  f1-score   support\n",
      "\n",
      "           0       0.84      0.93      0.88        72\n",
      "           1       0.82      0.91      0.86        70\n",
      "           2       0.88      0.79      0.83        53\n",
      "           3       0.80      0.62      0.70        13\n",
      "           4       0.94      0.82      0.88        60\n",
      "\n",
      "    accuracy                           0.86       268\n",
      "   macro avg       0.86      0.81      0.83       268\n",
      "weighted avg       0.86      0.86      0.86       268\n",
      "\n"
     ]
    },
    {
     "data": {
      "image/png": "[encoded data removed]",
      "text/plain": [
       "<Figure size 640x480 with 2 Axes>"
      ]
     },
     "metadata": {},
     "output_type": "display_data"
    }
   ],
   "source": [
    "from sklearn.ensemble import RandomForestClassifier\n",
    "\n",
    "# Splitting the data into training and validation sets\n",
    "X = zNormalisedDF.drop(columns=[label])\n",
    "y = zNormalisedDF[label]\n",
    "X_train, X_val, y_train, y_val = train_test_split(X, y, test_size=0.2, random_state=42)\n",
    "\n",
    "# Defining the parameter grid for Random Forest\n",
    "param_grid = {\n",
    "    'n_estimators': [200],#[100, 200, 300],  # Number of trees in the forest\n",
    "    'max_depth': [10],#[None, 10, 20],      # Maximum depth of the tree\n",
    "    'min_samples_split': [5],#[2, 5, 10],  # Minimum samples required to split an internal node\n",
    "    'min_samples_leaf': [2],#[1, 2, 4],    # Minimum samples required at a leaf node\n",
    "    'bootstrap': [False]#[True, False]        # Whether bootstrap samples are used when building trees\n",
    "}\n",
    "\n",
    "# Initialising StratifiedKFold with 5 splits\n",
    "stratified_kfold = StratifiedKFold(n_splits=5, shuffle=True, random_state=42)\n",
    "\n",
    "# Initialising the Random Forest Classifier\n",
    "rf_classifier = RandomForestClassifier(random_state=42)\n",
    "\n",
    "# Initialising GridSearchCV\n",
    "grid_search_rf = GridSearchCV(estimator=rf_classifier, param_grid=param_grid, scoring='accuracy', cv=stratified_kfold, verbose=1, n_jobs=-1)\n",
    "\n",
    "# Fitting the GridSearchCV to the training data\n",
    "grid_search_rf.fit(X_train, y_train)\n",
    "\n",
    "# Displaying the best model's hyperparameters\n",
    "print(\"Best Hyperparameters:\", grid_search_rf.best_params_)\n",
    "\n",
    "# Retrieving the best model\n",
    "best_rf_model = grid_search_rf.best_estimator_\n",
    "\n",
    "# Predicting on the validation set\n",
    "y_pred_rf = best_rf_model.predict(X_val)\n",
    "\n",
    "# Evaluating the model\n",
    "print(\"Accuracy:\", accuracy_score(y_val, y_pred_rf))\n",
    "print(\"Classification Report:\\n\", classification_report(y_val, y_pred_rf))\n",
    "\n",
    "disp = ConfusionMatrixDisplay(confusion_matrix=confusion_matrix(y_val, y_pred_rf), display_labels=grid_search_rf.classes_)\n",
    "disp.plot() \n",
    "\n",
    "# Saving the best model using pickle\n",
    "model_name_rf = 'best_rf_Charges_Classification'\n",
    "with open('models/' + model_name_rf + '.pkl', 'wb') as f:\n",
    "    pickle.dump(best_rf_model, f)\n"
   ]
  },
  {
   "cell_type": "markdown",
   "id": "f4792ef6",
   "metadata": {},
   "source": [
    "## ROC Curve"
   ]
  },
  {
   "cell_type": "code",
   "execution_count": 21,
   "id": "72ee911f",
   "metadata": {},
   "outputs": [
    {
     "data": {
      "image/png": "[encoded data removed]",
      "text/plain": [
       "<Figure size 640x480 with 1 Axes>"
      ]
     },
     "metadata": {},
     "output_type": "display_data"
    }
   ],
   "source": [
    "# Load the model\n",
    "with open('models/best_rf_Charges_Classification.pkl', 'rb') as f:\n",
    "    best_rf_model = pickle.load(f)\n",
    "\n",
    "# Predict probabilities for the validation set\n",
    "y_prob_rf = best_rf_model.predict_proba(X_val)\n",
    "\n",
    "# Initialize dictionaries to store ROC curve metrics for each class\n",
    "fpr = dict()\n",
    "tpr = dict()\n",
    "roc_auc = dict()\n",
    "\n",
    "# Calculate ROC curve and AUC for each class\n",
    "for i in range(len(np.unique(y_train))):  # Number of classes\n",
    "    fpr[i], tpr[i], _ = roc_curve(y_val == i, y_prob_rf[:, i])\n",
    "    roc_auc[i] = auc(fpr[i], tpr[i])\n",
    "\n",
    "# Plot ROC curves for each class\n",
    "plt.figure()\n",
    "for i in range(len(np.unique(y_train))):  # Plot for each class\n",
    "    plt.plot(fpr[i], tpr[i], label='ROC curve of class {0} (area = {1:0.2f})'\n",
    "                                   ''.format(i, roc_auc[i]))\n",
    "\n",
    "# Plot the random guess baseline\n",
    "plt.plot([0, 1], [0, 1], color=\"red\", linestyle=\"--\", lw=2, label=\"Random Guess\")\n",
    "plt.xlim([0.0, 1.0])\n",
    "plt.ylim([0.0, 1.05])\n",
    "plt.xlabel('False Positive Rate')\n",
    "plt.ylabel('True Positive Rate')\n",
    "plt.title('Receiver Operating Characteristic (ROC) for Charges Classes')\n",
    "plt.legend(loc=\"lower right\")\n",
    "plt.show()"
   ]
  },
  {
   "cell_type": "markdown",
   "id": "8787ab16",
   "metadata": {},
   "source": [
    "## Precision-Recall Curve"
   ]
  },
  {
   "cell_type": "code",
   "execution_count": 22,
   "id": "9a5ac711",
   "metadata": {},
   "outputs": [
    {
     "data": {
      "image/png": "[encoded data removed]",
      "text/plain": [
       "<Figure size 640x480 with 1 Axes>"
      ]
     },
     "metadata": {},
     "output_type": "display_data"
    }
   ],
   "source": [
    "# Load the model\n",
    "with open('models/best_rf_Charges_Classification.pkl', 'rb') as f:\n",
    "    best_model = pickle.load(f)\n",
    "\n",
    "# Predict probabilities for the validation set\n",
    "y_prob_rf = best_model.predict_proba(X_val)\n",
    "\n",
    "# Initialize dictionaries to store Precision-Recall metrics for each class\n",
    "precision = dict()\n",
    "recall = dict()\n",
    "average_precision = dict()\n",
    "\n",
    "# Calculate Precision-Recall curves for each class\n",
    "for i in range(len(np.unique(y_train))):  # Number of classes\n",
    "    precision[i], recall[i], _ = precision_recall_curve(y_val == i, y_prob_rf[:, i])\n",
    "    average_precision[i] = auc(recall[i], precision[i])\n",
    "\n",
    "# Plot Precision-Recall curves for each class\n",
    "plt.figure()\n",
    "for i in range(len(np.unique(y_train))):  # Plot for each class\n",
    "    plt.plot(recall[i], precision[i], label='Precision-Recall curve of class {0} (AP = {1:0.2f})'\n",
    "                                            ''.format(i, average_precision[i]))\n",
    "\n",
    "# Plot the random guess baseline\n",
    "plt.plot([0, 1], [1, 0], color=\"red\", linestyle=\"--\", lw=2, label=\"Random Guess\")\n",
    "plt.xlabel('Recall')\n",
    "plt.ylabel('Precision')\n",
    "plt.title('Precision-Recall Curves for Charges Classes')\n",
    "plt.legend(loc=\"lower left\")\n",
    "plt.show()\n"
   ]
  },
  {
   "cell_type": "markdown",
   "id": "bdbcc34f",
   "metadata": {},
   "source": [
    "# Processing Unseen Data\n",
    "\n",
    "Now that the Random Forest have been trained, the models can now be trained on custom data."
   ]
  },
  {
   "cell_type": "markdown",
   "id": "bb9cae39",
   "metadata": {},
   "source": [
    "**Validating Data**"
   ]
  },
  {
   "cell_type": "code",
   "execution_count": 23,
   "id": "2507d596",
   "metadata": {},
   "outputs": [],
   "source": [
    "#Defining the validation functions for each column \n",
    "def validate_age(value):\n",
    "    #Checking if the value is an integer and within the specified range\n",
    "    return isinstance(value, int) and 0 <= value <= 100\n",
    "\n",
    "def validate_sex(value):\n",
    "    #Checking if the value is in the specified list\n",
    "    return value in ['Male', 'Female']\n",
    "\n",
    "def validate_bmi(value):\n",
    "    #Checking if the value is an integer and within the specified range\n",
    "    return isinstance(value, float) and 0 <= value <= 60\n",
    "\n",
    "def validate_childCount(value):\n",
    "    #Checking if the value is an integer\n",
    "    return isinstance(value, int)\n",
    "\n",
    "def validate_isSmoker(value):\n",
    "    #Checking if the value is in the specified list\n",
    "    return value in ['Yes', 'No']\n",
    "\n",
    "def validate_region(value):\n",
    "    #Checking if the value is in the specified list\n",
    "    return value in ['southwest', 'southeast', 'northwest', 'northeast']\n",
    "\n",
    "\n",
    "#Defining function to validate the data\n",
    "def validate_row(row, validation_functions):\n",
    "    for col, value in row.items():\n",
    "        if not validation_functions[col](value):\n",
    "            return False  \n",
    "    return True\n",
    "\n",
    "#Defining function to append data if valid\n",
    "def append_data(df, new_data, validation_functions):\n",
    "    #Checking if new data is valid\n",
    "    if validate_row(new_data, validation_functions):\n",
    "        new_row_df = pd.DataFrame([new_data])\n",
    "        #Appending the new data to the dataframe\n",
    "        df = pd.concat([df, new_row_df], ignore_index=True)\n",
    "        print(\"Data appended successfully!\")\n",
    "    else:\n",
    "        print(\"Invalid data. Data was not appended.\")\n",
    "    return df"
   ]
  },
  {
   "cell_type": "markdown",
   "id": "cc45ca04",
   "metadata": {},
   "source": [
    "**Creating Unseen Example**"
   ]
  },
  {
   "cell_type": "code",
   "execution_count": 24,
   "id": "c07ff932",
   "metadata": {},
   "outputs": [
    {
     "name": "stdout",
     "output_type": "stream",
     "text": [
      "Data appended successfully!\n"
     ]
    },
    {
     "name": "stderr",
     "output_type": "stream",
     "text": [
      "C:\\Users\\User\\AppData\\Local\\Temp\\ipykernel_18092\\3500822193.py:40: FutureWarning: The behavior of DataFrame concatenation with empty or all-NA entries is deprecated. In a future version, this will no longer exclude empty or all-NA columns when determining the result dtypes. To retain the old behavior, exclude the relevant entries before the concat operation.\n",
      "  df = pd.concat([df, new_row_df], ignore_index=True)\n"
     ]
    },
    {
     "data": {
      "text/html": [
       "<div>\n",
       "<style scoped>\n",
       "    .dataframe tbody tr th:only-of-type {\n",
       "        vertical-align: middle;\n",
       "    }\n",
       "\n",
       "    .dataframe tbody tr th {\n",
       "        vertical-align: top;\n",
       "    }\n",
       "\n",
       "    .dataframe thead th {\n",
       "        text-align: right;\n",
       "    }\n",
       "</style>\n",
       "<table border=\"1\" class=\"dataframe\">\n",
       "  <thead>\n",
       "    <tr style=\"text-align: right;\">\n",
       "      <th></th>\n",
       "      <th>age</th>\n",
       "      <th>sex</th>\n",
       "      <th>bmi</th>\n",
       "      <th>children</th>\n",
       "      <th>smoker</th>\n",
       "      <th>region</th>\n",
       "    </tr>\n",
       "  </thead>\n",
       "  <tbody>\n",
       "    <tr>\n",
       "      <th>0</th>\n",
       "      <td>40</td>\n",
       "      <td>Male</td>\n",
       "      <td>30.3</td>\n",
       "      <td>0</td>\n",
       "      <td>No</td>\n",
       "      <td>southwest</td>\n",
       "    </tr>\n",
       "  </tbody>\n",
       "</table>\n",
       "</div>"
      ],
      "text/plain": [
       "  age   sex   bmi children smoker     region\n",
       "0  40  Male  30.3        0     No  southwest"
      ]
     },
     "metadata": {},
     "output_type": "display_data"
    }
   ],
   "source": [
    "#Defining the columns and data types as per the required format\n",
    "columns = ['age', 'sex', 'bmi', 'children', 'smoker', 'charges', 'region'] # Features\n",
    "#Defining the label column\n",
    "label = 'charges' \n",
    "\n",
    "#Removing the label from the feature list and create an empty DataFrame with the specified columns\n",
    "feature_list = [col for col in columns if col != label]\n",
    "df = pd.DataFrame(columns=feature_list)\n",
    "\n",
    "#Combining all validation functions in a dictionary\n",
    "validation_functions = {\n",
    "    'age': validate_age,\n",
    "    'sex': validate_sex,\n",
    "    'bmi': validate_bmi,\n",
    "    'children': validate_childCount,\n",
    "    'smoker': validate_isSmoker,\n",
    "    'region': validate_region,\n",
    "}\n",
    "\n",
    "#Removing the validation function for the label from the dictionary\n",
    "validation_functions.pop(label, None)\n",
    "\n",
    "#Taking example from the training data where salary <=50K\n",
    "new_data = {\n",
    "    'age': 40,\n",
    "    'sex': 'Male',\n",
    "    'bmi': 30.3,\n",
    "    'children': 0,\n",
    "    'smoker': 'No',\n",
    "    'region': 'southwest',\n",
    "}\n",
    "\n",
    "#Appending the data\n",
    "df = append_data(df, new_data, validation_functions)\n",
    "\n",
    "#Displaying the resulting DataFrame\n",
    "display(df)"
   ]
  },
  {
   "cell_type": "markdown",
   "id": "1e516b80",
   "metadata": {},
   "source": [
    "**Dropping Label Columns**"
   ]
  },
  {
   "cell_type": "code",
   "execution_count": 25,
   "id": "c6b88f3c",
   "metadata": {},
   "outputs": [
    {
     "name": "stdout",
     "output_type": "stream",
     "text": [
      "Empty DataFrame\n",
      "Columns: [age, sex, bmi, children, smoker, region_northwest, region_southeast, region_southwest]\n",
      "Index: []\n"
     ]
    }
   ],
   "source": [
    "#Creating a list of the columns present in dataframe used to train the model\n",
    "columns = ['age', 'sex', 'bmi', 'children', 'smoker', 'charges', 'region_northwest', 'region_southeast', 'region_southwest']\n",
    "\n",
    "#Creating an empty DataFrame with these columns\n",
    "formattedDF = pd.DataFrame(columns=columns)\n",
    "\n",
    "#Dropping columns that contain the label in their name (These are not required as this will be what is predicted)\n",
    "formattedDF = formattedDF.loc[:, ~formattedDF.columns.str.contains(label)]\n",
    "\n",
    "print(formattedDF)"
   ]
  },
  {
   "cell_type": "markdown",
   "id": "1ff3e6b7",
   "metadata": {},
   "source": [
    "**Mapping the data from the input DF to the formattedDF**"
   ]
  },
  {
   "cell_type": "code",
   "execution_count": 26,
   "id": "f6cb7a00",
   "metadata": {},
   "outputs": [
    {
     "name": "stderr",
     "output_type": "stream",
     "text": [
      "C:\\Users\\User\\AppData\\Local\\Temp\\ipykernel_18092\\3004092530.py:18: FutureWarning: Downcasting object dtype arrays on .fillna, .ffill, .bfill is deprecated and will change in a future version. Call result.infer_objects(copy=False) instead. To opt-in to the future behavior, set `pd.set_option('future.no_silent_downcasting', True)`\n",
      "  formattedDF.fillna(0, inplace=True)\n"
     ]
    },
    {
     "data": {
      "text/html": [
       "<div>\n",
       "<style scoped>\n",
       "    .dataframe tbody tr th:only-of-type {\n",
       "        vertical-align: middle;\n",
       "    }\n",
       "\n",
       "    .dataframe tbody tr th {\n",
       "        vertical-align: top;\n",
       "    }\n",
       "\n",
       "    .dataframe thead th {\n",
       "        text-align: right;\n",
       "    }\n",
       "</style>\n",
       "<table border=\"1\" class=\"dataframe\">\n",
       "  <thead>\n",
       "    <tr style=\"text-align: right;\">\n",
       "      <th></th>\n",
       "      <th>age</th>\n",
       "      <th>sex</th>\n",
       "      <th>bmi</th>\n",
       "      <th>children</th>\n",
       "      <th>smoker</th>\n",
       "      <th>region_northwest</th>\n",
       "      <th>region_southeast</th>\n",
       "      <th>region_southwest</th>\n",
       "    </tr>\n",
       "  </thead>\n",
       "  <tbody>\n",
       "    <tr>\n",
       "      <th>0</th>\n",
       "      <td>40</td>\n",
       "      <td>0</td>\n",
       "      <td>30</td>\n",
       "      <td>0</td>\n",
       "      <td>0</td>\n",
       "      <td>0</td>\n",
       "      <td>0</td>\n",
       "      <td>1</td>\n",
       "    </tr>\n",
       "  </tbody>\n",
       "</table>\n",
       "</div>"
      ],
      "text/plain": [
       "   age  sex  bmi  children  smoker  region_northwest  region_southeast  \\\n",
       "0   40    0   30         0       0                 0                 0   \n",
       "\n",
       "   region_southwest  \n",
       "0                 1  "
      ]
     },
     "metadata": {},
     "output_type": "display_data"
    }
   ],
   "source": [
    "#Copying over the continuous columns\n",
    "if label != 'age':\n",
    "    formattedDF['age'] = df['age']\n",
    "if label != 'sex':\n",
    "    formattedDF['sex'] = formattedDF['sex'].apply(lambda x: 1 if x == 'Male' else 0)\n",
    "if label != 'bmi':\n",
    "    formattedDF['bmi'] = df['bmi']\n",
    "if label != 'children':\n",
    "    formattedDF['children'] = df['children']\n",
    "if label != 'smoker':\n",
    "    formattedDF['smoker'] = formattedDF['smoker'].apply(lambda x: 1 if x == 'Yes' else 0)\n",
    "# if label != 'charges':\n",
    "#     formattedDF['charges'] = df['charges']\n",
    "if label != 'region':\n",
    "    formattedDF['region_'+df['region']] = 1\n",
    "\n",
    "#Filling in the remaining columns with 0 and converting to integer type\n",
    "formattedDF.fillna(0, inplace=True)\n",
    "formattedDF = formattedDF.astype(int)\n",
    "\n",
    "#Keeping only the columns present in the training data (removing columns that were dropped during one-hot encoding due to drop_first = True)\n",
    "formattedDF = formattedDF[formattedDF.columns.intersection(columns)]\n",
    "\n",
    "#Displaying the formatted DataFrame\n",
    "display(formattedDF)"
   ]
  },
  {
   "cell_type": "markdown",
   "id": "b76bb6f3",
   "metadata": {},
   "source": [
    "**Applying log1p to the skewed attributes identified during training**"
   ]
  },
  {
   "cell_type": "code",
   "execution_count": 27,
   "id": "c67cc207",
   "metadata": {},
   "outputs": [],
   "source": [
    "high_skew_columns = [] #No skewed columns detected during training\n",
    "\n",
    "for column in high_skew_columns:\n",
    "    formattedDF[column] = np.log1p(formattedDF[column])"
   ]
  },
  {
   "cell_type": "markdown",
   "id": "a73d9509",
   "metadata": {},
   "source": [
    "**Applying the training scaler to the unseen data**"
   ]
  },
  {
   "cell_type": "code",
   "execution_count": 28,
   "id": "1ba9293f",
   "metadata": {},
   "outputs": [
    {
     "data": {
      "text/html": [
       "<div>\n",
       "<style scoped>\n",
       "    .dataframe tbody tr th:only-of-type {\n",
       "        vertical-align: middle;\n",
       "    }\n",
       "\n",
       "    .dataframe tbody tr th {\n",
       "        vertical-align: top;\n",
       "    }\n",
       "\n",
       "    .dataframe thead th {\n",
       "        text-align: right;\n",
       "    }\n",
       "</style>\n",
       "<table border=\"1\" class=\"dataframe\">\n",
       "  <thead>\n",
       "    <tr style=\"text-align: right;\">\n",
       "      <th></th>\n",
       "      <th>age</th>\n",
       "      <th>sex</th>\n",
       "      <th>bmi</th>\n",
       "      <th>children</th>\n",
       "      <th>smoker</th>\n",
       "      <th>region_northwest</th>\n",
       "      <th>region_southeast</th>\n",
       "      <th>region_southwest</th>\n",
       "    </tr>\n",
       "  </thead>\n",
       "  <tbody>\n",
       "    <tr>\n",
       "      <th>0</th>\n",
       "      <td>0.055407</td>\n",
       "      <td>0</td>\n",
       "      <td>-0.108795</td>\n",
       "      <td>0</td>\n",
       "      <td>0</td>\n",
       "      <td>0</td>\n",
       "      <td>0</td>\n",
       "      <td>1</td>\n",
       "    </tr>\n",
       "  </tbody>\n",
       "</table>\n",
       "</div>"
      ],
      "text/plain": [
       "        age  sex       bmi  children  smoker  region_northwest  \\\n",
       "0  0.055407    0 -0.108795         0       0                 0   \n",
       "\n",
       "   region_southeast  region_southwest  \n",
       "0                 0                 1  "
      ]
     },
     "execution_count": 28,
     "metadata": {},
     "output_type": "execute_result"
    }
   ],
   "source": [
    "#Loading the scaler and transform the data\n",
    "with open('models/z-score_scaler_rf_charges_classification.pkl', 'rb') as f:\n",
    "    scaler = pickle.load(f)\n",
    "\n",
    "#Creating a list of continuous columns to standardize\n",
    "continuous_columns = ['age', 'bmi']\n",
    "\n",
    "#Applying the scaler to the unseen data\n",
    "formattedDF[continuous_columns] = scaler.transform(formattedDF[continuous_columns])\n",
    "\n",
    "formattedDF.head(5)"
   ]
  },
  {
   "cell_type": "code",
   "execution_count": 29,
   "id": "fa69ca7e",
   "metadata": {},
   "outputs": [],
   "source": [
    "#Inverting the dict to map the 'charges' values back to 'charges' labels\n",
    "inverse_mapping_charges = {\n",
    "    0: 'Very Low (<= 5000)',\n",
    "    1: 'Low (5001 - 10000)',\n",
    "    2: 'Moderate (10001 - 15000)',\n",
    "    3: 'High (15001 - 20000)',\n",
    "    4: 'Very High (> 20001)',\n",
    "}"
   ]
  },
  {
   "cell_type": "markdown",
   "id": "5711c501",
   "metadata": {},
   "source": [
    "**Make prediction on new data using Best Model**"
   ]
  },
  {
   "cell_type": "code",
   "execution_count": 30,
   "id": "15af232d",
   "metadata": {},
   "outputs": [
    {
     "name": "stdout",
     "output_type": "stream",
     "text": [
      "Predicted charges Class: Low (5001 - 10000)\n"
     ]
    }
   ],
   "source": [
    "#Loading the saved model using pickle\n",
    "with open('models/best_rf_Charges_Classification.pkl', 'rb') as f:\n",
    "    loaded_model = pickle.load(f)\n",
    "\n",
    "#Making predictions with the loaded model\n",
    "prediction = loaded_model.predict(formattedDF)\n",
    "\n",
    "if label == 'charges':\n",
    "    #Mapping the predicted values back to the original education values\n",
    "    prediction = prediction[0]\n",
    "    prediction = inverse_mapping_charges[prediction]\n",
    "    predicted_label = 'charges'\n",
    "\n",
    "#Displaying the predicted charges class\n",
    "print(\"Predicted \" + predicted_label + \" Class:\", prediction)"
   ]
  }
 ],
 "metadata": {
  "kaggle": {
   "accelerator": "none",
   "dataSources": [
    {
     "datasetId": 3852935,
     "sourceId": 6678394,
     "sourceType": "datasetVersion"
    }
   ],
   "dockerImageVersionId": 30786,
   "isGpuEnabled": false,
   "isInternetEnabled": true,
   "language": "python",
   "sourceType": "notebook"
  },
  "kernelspec": {
   "display_name": ".venv",
   "language": "python",
   "name": "python3"
  },
  "language_info": {
   "codemirror_mode": {
    "name": "ipython",
    "version": 3
   },
   "file_extension": ".py",
   "mimetype": "text/x-python",
   "name": "python",
   "nbconvert_exporter": "python",
   "pygments_lexer": "ipython3",
   "version": "3.10.8"
  },
  "papermill": {
   "default_parameters": {},
   "duration": 26.689118,
   "end_time": "2024-11-21T04:08:19.798344",
   "environment_variables": {},
   "exception": null,
   "input_path": "__notebook__.ipynb",
   "output_path": "__notebook__.ipynb",
   "parameters": {},
   "start_time": "2024-11-21T04:07:53.109226",
   "version": "2.6.0"
  }
 },
 "nbformat": 4,
 "nbformat_minor": 5
}
