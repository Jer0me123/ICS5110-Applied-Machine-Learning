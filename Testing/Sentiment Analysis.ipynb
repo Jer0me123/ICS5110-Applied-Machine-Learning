{
 "cells": [
  {
   "cell_type": "code",
   "execution_count": null,
   "metadata": {},
   "outputs": [],
   "source": [
    "# !pip install scikit-learn"
   ]
  },
  {
   "cell_type": "code",
   "execution_count": null,
   "metadata": {},
   "outputs": [],
   "source": [
    "# Import necessary libraries\n",
    "from sklearn.datasets import fetch_20newsgroups\n",
    "from textblob import TextBlob\n",
    "import pandas as pd\n",
    "\n",
    "# Step 1: Load the Dataset\n",
    "newsgroups = fetch_20newsgroups(subset='all')\n",
    "\n",
    "# For demonstration, we'll analyze a subset due to computational limitations\n",
    "texts = newsgroups.data[:1000]  # Analyze the first 1000 documents\n",
    "\n",
    "# Step 2: Preprocess the Text (Basic preprocessing)\n",
    "# We'll remove any non-text content (optional)\n",
    "\n",
    "# Step 3: Apply Sentiment Analysis\n",
    "sentiments = []\n",
    "for text in texts:\n",
    "    blob = TextBlob(text)\n",
    "    sentiment = blob.sentiment.polarity  # Ranges from -1 (negative) to 1 (positive)\n",
    "    sentiments.append(sentiment)\n",
    "\n",
    "# Step 4: Aggregate and Analyze Results\n",
    "df = pd.DataFrame({'Text': texts, 'Sentiment': sentiments})\n",
    "print(df.head())\n",
    "\n",
    "# Optional: Categorize sentiments\n",
    "df['Sentiment_Label'] = df['Sentiment'].apply(\n",
    "    lambda x: 'Positive' if x > 0 else ('Negative' if x < 0 else 'Neutral'))\n",
    "\n",
    "# Display sentiment distribution\n",
    "print(df['Sentiment_Label'].value_counts())\n"
   ]
  },
  {
   "cell_type": "markdown",
   "metadata": {},
   "source": []
  },
  {
   "cell_type": "code",
   "execution_count": null,
   "metadata": {},
   "outputs": [],
   "source": [
    "# # Install TextBlob\n",
    "# !pip install textblob\n",
    "# !python -m textblob.download_corpora"
   ]
  },
  {
   "cell_type": "code",
   "execution_count": null,
   "metadata": {},
   "outputs": [],
   "source": [
    "# from textblob import TextBlob\n",
    "\n",
    "# # Function to extract sentiment from text\n",
    "# def get_sentiment(text):\n",
    "#     analysis = TextBlob(text)\n",
    "#     return 'positive' if analysis.sentiment.polarity > 0 else 'negative'\n",
    "\n",
    "# # Apply sentiment analysis to a subset of the data\n",
    "# sample_texts = X_test[:10]  # Analyze 10 random texts for simplicity\n",
    "# for i, text in enumerate(sample_texts):\n",
    "#     print(f\"Text {i+1}: Sentiment: {get_sentiment(text)}\")\n",
    "#     print(text[:200], '...\\n')  # Print the first 200 characters of each text\n"
   ]
  }
 ],
 "metadata": {
  "kernelspec": {
   "display_name": ".venv",
   "language": "python",
   "name": "python3"
  },
  "language_info": {
   "name": "python",
   "version": "3.10.8"
  }
 },
 "nbformat": 4,
 "nbformat_minor": 2
}
